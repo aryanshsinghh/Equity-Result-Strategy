{
  "nbformat": 4,
  "nbformat_minor": 0,
  "metadata": {
    "colab": {
      "name": "Moneycontrol.ipynb",
      "provenance": [],
      "collapsed_sections": [],
      "machine_shape": "hm"
    },
    "kernelspec": {
      "name": "python3",
      "display_name": "Python 3"
    },
    "accelerator": "GPU"
  },
  "cells": [
    {
      "cell_type": "code",
      "metadata": {
        "colab": {
          "base_uri": "https://localhost:8080/"
        },
        "id": "3BM3vLA80zZ4",
        "outputId": "9940355f-cbec-4166-975d-ae9d55edfa87"
      },
      "source": [
        "from google.colab import drive\n",
        "drive.mount('/content/drive')\n",
        "!sudo pip install selenium\n",
        "!apt-get update \n",
        "!apt install chromium-chromedriver\n",
        "\n",
        "from selenium import webdriver\n",
        "from selenium.webdriver.support import expected_conditions as EC\n",
        "from selenium.webdriver.common.by import By\n",
        "from selenium.webdriver.support.ui import WebDriverWait\n",
        "chrome_options = webdriver.ChromeOptions()\n",
        "chrome_options.add_argument('--headless')\n",
        "chrome_options.add_argument('--no-sandbox')\n",
        "chrome_options.add_argument('--disable-dev-shm-usage')\n",
        "wd = webdriver.Chrome('chromedriver',chrome_options=chrome_options)\n",
        "driver =webdriver.Chrome('chromedriver',chrome_options=chrome_options)\n",
        "import math\n",
        "import time\n",
        "import csv\n",
        "import pandas as pd"
      ],
      "execution_count": null,
      "outputs": [
        {
          "output_type": "stream",
          "text": [
            "Mounted at /content/drive\n",
            "Collecting selenium\n",
            "\u001b[?25l  Downloading https://files.pythonhosted.org/packages/80/d6/4294f0b4bce4de0abf13e17190289f9d0613b0a44e5dd6a7f5ca98459853/selenium-3.141.0-py2.py3-none-any.whl (904kB)\n",
            "\u001b[K     |████████████████████████████████| 911kB 4.9MB/s \n",
            "\u001b[?25hRequirement already satisfied: urllib3 in /usr/local/lib/python3.7/dist-packages (from selenium) (1.24.3)\n",
            "Installing collected packages: selenium\n",
            "Successfully installed selenium-3.141.0\n",
            "Get:1 http://security.ubuntu.com/ubuntu bionic-security InRelease [88.7 kB]\n",
            "Get:2 https://cloud.r-project.org/bin/linux/ubuntu bionic-cran40/ InRelease [3,626 B]\n",
            "Ign:3 https://developer.download.nvidia.com/compute/cuda/repos/ubuntu1804/x86_64  InRelease\n",
            "Ign:4 https://developer.download.nvidia.com/compute/machine-learning/repos/ubuntu1804/x86_64  InRelease\n",
            "Get:5 http://ppa.launchpad.net/c2d4u.team/c2d4u4.0+/ubuntu bionic InRelease [15.9 kB]\n",
            "Get:6 https://developer.download.nvidia.com/compute/cuda/repos/ubuntu1804/x86_64  Release [697 B]\n",
            "Hit:7 http://archive.ubuntu.com/ubuntu bionic InRelease\n",
            "Hit:8 https://developer.download.nvidia.com/compute/machine-learning/repos/ubuntu1804/x86_64  Release\n",
            "Get:9 https://developer.download.nvidia.com/compute/cuda/repos/ubuntu1804/x86_64  Release.gpg [836 B]\n",
            "Get:10 http://archive.ubuntu.com/ubuntu bionic-updates InRelease [88.7 kB]\n",
            "Hit:11 http://ppa.launchpad.net/cran/libgit2/ubuntu bionic InRelease\n",
            "Get:12 http://ppa.launchpad.net/deadsnakes/ppa/ubuntu bionic InRelease [15.9 kB]\n",
            "Get:13 http://archive.ubuntu.com/ubuntu bionic-backports InRelease [74.6 kB]\n",
            "Get:14 http://security.ubuntu.com/ubuntu bionic-security/restricted amd64 Packages [473 kB]\n",
            "Get:15 http://security.ubuntu.com/ubuntu bionic-security/universe amd64 Packages [1,418 kB]\n",
            "Get:16 http://security.ubuntu.com/ubuntu bionic-security/main amd64 Packages [2,221 kB]\n",
            "Get:17 http://ppa.launchpad.net/graphics-drivers/ppa/ubuntu bionic InRelease [21.3 kB]\n",
            "Ign:19 https://developer.download.nvidia.com/compute/cuda/repos/ubuntu1804/x86_64  Packages\n",
            "Get:19 https://developer.download.nvidia.com/compute/cuda/repos/ubuntu1804/x86_64  Packages [634 kB]\n",
            "Get:20 http://ppa.launchpad.net/c2d4u.team/c2d4u4.0+/ubuntu bionic/main Sources [1,777 kB]\n",
            "Get:21 http://archive.ubuntu.com/ubuntu bionic-updates/universe amd64 Packages [2,188 kB]\n",
            "Get:22 http://ppa.launchpad.net/c2d4u.team/c2d4u4.0+/ubuntu bionic/main amd64 Packages [909 kB]\n",
            "Get:23 http://archive.ubuntu.com/ubuntu bionic-updates/restricted amd64 Packages [506 kB]\n",
            "Get:24 http://archive.ubuntu.com/ubuntu bionic-updates/main amd64 Packages [2,656 kB]\n",
            "Get:25 http://ppa.launchpad.net/deadsnakes/ppa/ubuntu bionic/main amd64 Packages [40.9 kB]\n",
            "Get:26 http://ppa.launchpad.net/graphics-drivers/ppa/ubuntu bionic/main amd64 Packages [41.5 kB]\n",
            "Fetched 13.2 MB in 4s (3,201 kB/s)\n",
            "Reading package lists... Done\n",
            "Reading package lists... Done\n",
            "Building dependency tree       \n",
            "Reading state information... Done\n",
            "The following additional packages will be installed:\n",
            "  chromium-browser chromium-browser-l10n chromium-codecs-ffmpeg-extra\n",
            "Suggested packages:\n",
            "  webaccounts-chromium-extension unity-chromium-extension\n",
            "The following NEW packages will be installed:\n",
            "  chromium-browser chromium-browser-l10n chromium-chromedriver\n",
            "  chromium-codecs-ffmpeg-extra\n",
            "0 upgraded, 4 newly installed, 0 to remove and 83 not upgraded.\n",
            "Need to get 86.0 MB of archives.\n",
            "After this operation, 298 MB of additional disk space will be used.\n",
            "Get:1 http://archive.ubuntu.com/ubuntu bionic-updates/universe amd64 chromium-codecs-ffmpeg-extra amd64 91.0.4472.101-0ubuntu0.18.04.1 [1,124 kB]\n",
            "Get:2 http://archive.ubuntu.com/ubuntu bionic-updates/universe amd64 chromium-browser amd64 91.0.4472.101-0ubuntu0.18.04.1 [76.1 MB]\n",
            "Get:3 http://archive.ubuntu.com/ubuntu bionic-updates/universe amd64 chromium-browser-l10n all 91.0.4472.101-0ubuntu0.18.04.1 [3,937 kB]\n",
            "Get:4 http://archive.ubuntu.com/ubuntu bionic-updates/universe amd64 chromium-chromedriver amd64 91.0.4472.101-0ubuntu0.18.04.1 [4,837 kB]\n",
            "Fetched 86.0 MB in 4s (19.7 MB/s)\n",
            "Selecting previously unselected package chromium-codecs-ffmpeg-extra.\n",
            "(Reading database ... 160772 files and directories currently installed.)\n",
            "Preparing to unpack .../chromium-codecs-ffmpeg-extra_91.0.4472.101-0ubuntu0.18.04.1_amd64.deb ...\n",
            "Unpacking chromium-codecs-ffmpeg-extra (91.0.4472.101-0ubuntu0.18.04.1) ...\n",
            "Selecting previously unselected package chromium-browser.\n",
            "Preparing to unpack .../chromium-browser_91.0.4472.101-0ubuntu0.18.04.1_amd64.deb ...\n",
            "Unpacking chromium-browser (91.0.4472.101-0ubuntu0.18.04.1) ...\n",
            "Selecting previously unselected package chromium-browser-l10n.\n",
            "Preparing to unpack .../chromium-browser-l10n_91.0.4472.101-0ubuntu0.18.04.1_all.deb ...\n",
            "Unpacking chromium-browser-l10n (91.0.4472.101-0ubuntu0.18.04.1) ...\n",
            "Selecting previously unselected package chromium-chromedriver.\n",
            "Preparing to unpack .../chromium-chromedriver_91.0.4472.101-0ubuntu0.18.04.1_amd64.deb ...\n",
            "Unpacking chromium-chromedriver (91.0.4472.101-0ubuntu0.18.04.1) ...\n",
            "Setting up chromium-codecs-ffmpeg-extra (91.0.4472.101-0ubuntu0.18.04.1) ...\n",
            "Setting up chromium-browser (91.0.4472.101-0ubuntu0.18.04.1) ...\n",
            "update-alternatives: using /usr/bin/chromium-browser to provide /usr/bin/x-www-browser (x-www-browser) in auto mode\n",
            "update-alternatives: using /usr/bin/chromium-browser to provide /usr/bin/gnome-www-browser (gnome-www-browser) in auto mode\n",
            "Setting up chromium-chromedriver (91.0.4472.101-0ubuntu0.18.04.1) ...\n",
            "Setting up chromium-browser-l10n (91.0.4472.101-0ubuntu0.18.04.1) ...\n",
            "Processing triggers for man-db (2.8.3-2ubuntu0.1) ...\n",
            "Processing triggers for hicolor-icon-theme (0.17-2) ...\n",
            "Processing triggers for mime-support (3.60ubuntu1) ...\n",
            "Processing triggers for libc-bin (2.27-3ubuntu1.2) ...\n",
            "/sbin/ldconfig.real: /usr/local/lib/python3.7/dist-packages/ideep4py/lib/libmkldnn.so.0 is not a symbolic link\n",
            "\n"
          ],
          "name": "stdout"
        },
        {
          "output_type": "stream",
          "text": [
            "/usr/local/lib/python3.7/dist-packages/ipykernel_launcher.py:15: DeprecationWarning: use options instead of chrome_options\n",
            "  from ipykernel import kernelapp as app\n",
            "/usr/local/lib/python3.7/dist-packages/ipykernel_launcher.py:16: DeprecationWarning: use options instead of chrome_options\n",
            "  app.launch_new_instance()\n"
          ],
          "name": "stderr"
        }
      ]
    },
    {
      "cell_type": "code",
      "metadata": {
        "colab": {
          "base_uri": "https://localhost:8080/"
        },
        "id": "6SFs35oJ88NO",
        "outputId": "3b8d5d16-82c1-4ef6-c163-b863a9a9897c"
      },
      "source": [
        "#stock codes for first 4 pages of BSE results\n",
        "driver = webdriver.Chrome('chromedriver',chrome_options=chrome_options)\n",
        "driver.set_window_size(1200, 828)\n",
        "code_name=[]\n",
        "Equities = \"/content/drive/MyDrive/Equitiess.csv\"\n",
        "fields = ['Equity Code']\n",
        "driver.get(\"https://www.bseindia.com/corporates/forth_results.aspx?expandable=0\")\n",
        "time.sleep(5)\n",
        "for ind in range(1,2):\n",
        "  i=2;\n",
        "  # num=driver.find_element_by_xpath(\"/html/body/div[5]/div/div/div/table/tbody/tr/td/table/tbody/tr[%d]/td[1]/a\"%(ind))\n",
        "  # num.click()\n",
        "  time.sleep(2)\n",
        "  while(True):\n",
        "    try:\n",
        "      nme=driver.find_element_by_xpath(\"/html/body/div[5]/div/div/div/table/tbody/tr/td/table/tbody/tr[%d]/td[1]/a\"%(i)).text\n",
        "      i+=1\n",
        "      code_name.append(nme)\n",
        "      # df_temp = pd.DataFrame([[nme]],columns=list(fields))\n",
        "      # df_temp.to_csv(Equities, mode='a', index=False, header=False)  \n",
        "    except:\n",
        "      break\n",
        "print(code_name)\n",
        "\n"
      ],
      "execution_count": null,
      "outputs": [
        {
          "output_type": "stream",
          "text": [
            "/usr/local/lib/python3.7/dist-packages/ipykernel_launcher.py:2: DeprecationWarning: use options instead of chrome_options\n",
            "  \n"
          ],
          "name": "stderr"
        },
        {
          "output_type": "stream",
          "text": [
            "['511122', '531866', '526488', '512165', '513119', '517494', '530093', '531525', '541133', '534707', '513513', '543269', '526331', '506947', '541402', '537492', '542524', '534064', '526628', '531082', '517546', '531156', '530889', '532878', '530715', '538423', '521097', '532335', '530133', '540697', '531300', '540923', '531991', '540066', '515055', '540694', '519383', '531223', '511153', '531673', '532870', '501270', '538833', '523896', '506979', '539403', '526662', '531381', '531017', '531560', '506074', '531392', '513401', '541702', '526187', '531568', '530413', '502015', '539982', '527007', '517429', '526843', '531336', '522005', '512265', '524516', '520127', '531112', '509053', '532946', '519353', '539946', '506971', '517246', '539621', '539447', '532645', '541178', '524606', '531582', '539120', '532430', '540545', '534535', '532930', '531862', '540956', '506027', '543209', '500059', '524396', '512332', '522105', '513422', '535279', '531420', '542669', '526594', '539546', '502216', '543211', '531203', '539434', '533543', '539198', '530609', '531682', '538433', '526550', '514171', '531621', '500083', '532413', '512341', '531946', '539600', '504671', '542678', '539011', '526546', '540681', '519477', '526373', '531283', '530457', '532324', '506373', '538674', '512213', '540481', '533407', '539436', '540597', '523232', '530755', '526737', '530545', '531624', '523415', '522001', '524388', '526977', '531909', '509499', '532364', '539770', '539884', '519413', '530171', '543267', '533160', '541778', '542155', '531198', '521216', '508860', '531153', '532839', '526285', '511636', '540789', '540144', '532365', '534674', '526355', '538608', '590022', '540006', '540063', '520081', '526473', '539533', '538882', '507265', '500246', '531502', '512439', '538708', '521137', '524444', '526614', '530079', '532768', '532022', '530705', '522017', '539839', '539169', '538609', '539492', '530615', '526727', '512493', '514400', '538787', '504346', '539407', '531739', '541703', '540936', '542918', '539013', '531758', '542477', '531904', '543239', '513536', '542850', '538180', '530655', '590126', '513059', '532744', '506640', '513507', '526965', '532160', '513337', '530141', '538731', '542682', '531387', '532467', '538652', '526967', '524590', '514010', '513723', '531979', '531918', '505725', '500500', '531743', '531661', '526931', '542935', '532822', '535667', '511682', '540152', '540134', '532414', '511628', '532614', '531672', '532001', '501700', '509051', '531343', '517571', '541304', '521005', '532894', '526445', '536709', '500319', '537985', '530787', '541983', '541353', '523840', '517433', '536868', '530781', '530921', '530259', '511208', '530773', '507155', '532976', '514312', '523467', '526865', '539119', '505840', '542924', '519319', '526001', '522285', '513252', '539246', '511618', '533103', '570004', '500219', '531035', '511060', '540756', '531780', '504840', '539014', '511131', '506184', '540515', '532925', '590041', '539393', '531784', '530547', '540953', '530163', '507180', '524174', '590068', '507946', '524699', '530771', '531578', '531541', '514128', '539997', '505299', '533482', '504392', '519421', '532081', '539408', '530421', '531206', '532275', '539909', '532019', '508306', '532998', '526596', '507759', '517463', '526604', '540360', '539227', '531402', '534532', '541973', '501874', '539894', '511000', '505523', '531648', '531540', '500267', '540402', '533078', '523566', '517467', '506867', '534563', '511688', '534338', '526538', '531680', '532629', '500282', '512505', '531417', '511367', '511738', '539126', '500274', '531810', '540150', '526795', '532850', '526570', '538895', '522235', '523373', '523782', '526671', '538890', '507621', '532140', '530169', '532376', '539229', '540254', '538743', '539219', '505594', '511200', '539410', '521109', '531651', '502587', '513179', '531494', '512024', '534615', '531049', '539409', '540698', '511658', '508867', '538874', '502294', '512425', '508875', '522289', '526195', '539110', '531465', '542771', '542628', '531819', '542938', '521105', '507609', '531092', '533317', '514324', '533632', '535657', '539116', '530135', '539287', '540198', '530741', '523483', '526905', '532350', '539121', '531726', '517397', '539469', '530291', '531255', '524689', '513359', '507970', '506128', '538686', '521080', '503092', '514326', '539352', '506580', '539178', '524046', '532748', '526747', '537839', '526481', '526588', '512026', '524808', '507864', '530683', '532387', '507645', '519359', '533178', '500192', '511660', '530695', '519299', '526009', '526494', '590057', '540159', '534109', '530281', '590070', '526813', '531552', '531694', '541601', '539090', '530699', '506975', '500354', '530253', '526095', '514223', '531583', '531233', '532918', '507300', '543285', '537254', '539673', '513558', '532884', '531033', '531888', '539669', '539922', '540590', '514177', '542383', '536456', '512618', '540358', '543171', '502448', '530991', '542599', '526193', '512047', '526407', '540082', '512565', '531215', '532710', '540715', '532092', '503691', '511533', '531931', '507315', '511066', '540181', '526554', '530125', '530025', '511563', '523116', '524703', '531625', '532435', '516096', '514280', '519260', '516032', '530993', '531930', '514412', '517320', '531893', '523710', '532669', '526081', '526544', '531797', '538857', '535647', '530361', '533268', '512529', '533605', '524324', '532993', '526532', '501479', '531812', '509870', '512499', '531925', '514402', '524548', '523449', '538212', '540221', '540147', '507952', '543244', '512289', '539593', '540072', '530295', '527005', '541112', '530841', '508961', '511411', '523790', '540736', '526877', '539983', '519234', '540211', '540132', '536073', '539742', '507998', '523838', '519566', '505504', '526839', '539363', '539861', '540269', '500388', '531506', '532316', '532419', '542034', '539378', '539911', '540253', '512014', '513699', '538943', '540174', '542376', '531982', '500285', '512221', '542232', '514248', '535601', '523756', '536710', '518053', '514442', '513515', '515081', '530565', '511700', '531616', '520155', '504180', '526231', '536738', '541633', '538714', '530883', '508969', '530795', '523425', '539835', '526133', '511539', '532070', '512311', '519604', '532028', '523722', '539278', '533157', '524470', '531432', '540332', '543249', '538496', '501242', '524156', '533216', '530595', '506162', '512157', '513305', '526654', '509015', '539310', '533941', '522294', '500414', '530475', '531814', '539008', '522171', '523419', '531644', '500418', '531771', '538464', '526961', '513063', '542923', '531658', '531279', '532131', '538569', '541228', '514142', '505285', '531917', '526945', '500464', '531610', '541338', '533644', '538610', '502893', '524408', '526799', '526113', '540189', '530579', '532320', '519156', '519152', '526941', '513397', '530459', '513005', '511493', '503657', '511523', '539132', '505232', '524038', '516098', '512229', '537820', '506103', '530151', '530961', '543298', '531051', '517393', '512517', '532613', '532354', '532372', '534741', '531126', '532721', '526441', '531668', '524711', '590038', '540823', '542046', '509026', '539761', '539167', '539222', '540252', '503675', '531211', '513713', '519224', '526471', '511642', '504998', '531396', '542667', '538451', '504220', '514378', '530675', '531663', '504370', '531043', '539963', '512553', '502850', '501111', '513039', '512303', '521163', '503641', '512062', '539111', '500023', '512361', '517077', '532877', '531882', '531959', '514360', '513262', '500209', '541729', '511726', '500034', '541179', '532661', '532978', '543245', '500252', '500266', '532977', '500490', '526299', '532988', '512527', '500228', '533179', '532174', '532215', '500245', '532504', '532987', '504067', '500124', '507488', '517506', '500790', '533393', '543260', '508906', '505800', '532529', '532515']\n"
          ],
          "name": "stdout"
        }
      ]
    },
    {
      "cell_type": "code",
      "metadata": {
        "id": "AAFnEMhm0xwM",
        "colab": {
          "base_uri": "https://localhost:8080/"
        },
        "outputId": "4c9b05b7-038c-4c3f-985f-ea1bed0a5b82"
      },
      "source": [
        "#Sajal\n",
        "driver = webdriver.Chrome('chromedriver',chrome_options=chrome_options)\n",
        "driver.set_window_size(1200, 828)\n",
        "links=[]\n",
        "# t=0.2\n",
        "driver.get(\"https://www.moneycontrol.com/\")\n",
        "time.sleep(3)\n",
        "Analysis_Sheet = \"/content/drive/MyDrive/StockAnalysisss.csv\"\n",
        "fields = ['Name', 'URL', 'Price', 'Range', 'ttmpe', 'Sector pe', 'Vol', 'Pitrioski', 'Strength', 'Weak','Opp', 'Threat', 'Performance', '3 Month Return', '1 Year Return', 'Confidence Percentage', 'Dividend']\n",
        "\n",
        "#Change index_codee to start the code from that index\n",
        "index_code=785\n",
        "codeName=code_name[index_code:]\n",
        "for code in codeName:\n",
        "  print(index_code)\n",
        "  index_code+=1\n",
        "  driver.execute_script(\"window.scrollTo(0, 0)\")\n",
        "  time.sleep(2)\n",
        "  txt_box=driver.find_element_by_xpath(\"//*[@id='search_str']\")\n",
        "  for ind in range(6):\n",
        "    try: \n",
        "      txt_box.send_keys(code[ind])\n",
        "      time.sleep(1)\n",
        "    except:\n",
        "      continue\n",
        "  page=driver.find_element_by_xpath(\"//*[@id='autosuggestlist']/ul/li/a\")\n",
        "  # tmp=page.text+' '+code\n",
        "  # print(tmp)\n",
        "  page.click()\n",
        "  # print(driver.current_url)\n",
        "  element_present = EC.presence_of_element_located((By.XPATH, \"//*[@id='stockName']/h1\"))\n",
        "  WebDriverWait(driver, 50).until(element_present)\n",
        "  # links.append(driver.current_url)\n",
        "  time.sleep(2);\n",
        "  name = driver.find_element_by_xpath(\"//*[@id='stockName']/h1\").text\n",
        "  try:\n",
        "    price = driver.find_element_by_xpath(\"//*[@id='nsecp']\").get_attribute('data-numberanimate-value')\n",
        "  except:\n",
        "    try:\n",
        "      price = driver.find_element_by_xpath(\"//*[@id='bsecp']\").get_attribute('data-numberanimate-value')\n",
        "    except:\n",
        "      continue\n",
        "  # print(price)\n",
        "  try:\n",
        "    price=float(price)\n",
        "  except:\n",
        "    continue\n",
        "\n",
        "  wh52 = driver.find_element_by_xpath(\"//*[@id='sp_yearlylow']\").text\n",
        "  wl52 = driver.find_element_by_xpath(\"//*[@id='sp_yearlyhigh']\").text\n",
        "  rng = wl52 + \"-\" + wh52\n",
        "  ttmpe = driver.find_element_by_xpath(\"//*[@id='stk_overview']/div[1]/div/div[3]/table/tbody/tr[3]/td[2]\").text\n",
        "  secpe = driver.find_element_by_xpath(\"//*[@id='stk_overview']/div[1]/div/div[3]/table/tbody/tr[4]/td[2]\").text\n",
        "  vol = driver.find_element_by_xpath(\"//*[@id='stk_overview']/div[1]/div/div[1]/table/tbody/tr[5]/td[2]\").text\n",
        "  strength = driver.find_element_by_xpath(\"//*[@id='swot_ls']/a/strong\").text\n",
        "  weak = driver.find_element_by_xpath(\"//*[@id='swot_lw']/a/strong\").text\n",
        "  opp = driver.find_element_by_xpath(\"//*[@id='swot_lo']/a/strong\").text\n",
        "  threat = driver.find_element_by_xpath(\"//*[@id='swot_lt']/a/strong\").text\n",
        "  try:\n",
        "    ps = driver.find_element_by_xpath(\"//*[@id='mc_insight']/div[3]/div[2]/div[1]/div[2]\").text\n",
        "  except:\n",
        "    ps=\"\"\n",
        "  num_tmp=5\n",
        "  while(True):\n",
        "    try:\n",
        "      performance = driver.find_element_by_xpath(\"//*[@id='mc_insight']/div[3]/div[1]/ul/li[%d]\"%(num_tmp)).text\n",
        "      break;\n",
        "    except:\n",
        "      num_tmp-=1\n",
        "      if(num_tmp==0):\n",
        "        performance = \"\"\n",
        "        break;\n",
        "  tmr = driver.find_element_by_xpath(\"//*[@id='price_volume']/div[2]/div[1]/table/tbody/tr[3]/td[3]\").text\n",
        "  oyr = driver.find_element_by_xpath(\"//*[@id='price_volume']/div[2]/div[1]/table/tbody/tr[5]/td[2]\").text\n",
        "  try:\n",
        "    conf_per = driver.find_element_by_xpath(\"//*[@id='pcforum']/div/div/div[1]/div[2]/div[1]\").text\n",
        "  except:\n",
        "    conf_per=\"\"\n",
        "    pass\n",
        "  div = driver.find_element_by_xpath(\"//*[@id='stk_overview']/div/div/div[4]/table/tbody/tr[2]/td[2]\").text\n",
        "  # print(name, driver.current_url, price, rng, ttmpe, secpe, vol, ps, strength, weak, opp, threat, performance, tmr, oyr, conf_per, div )\n",
        "  df_temp = pd.DataFrame([[name, driver.current_url, price, rng, ttmpe, secpe, vol, ps, strength, weak, opp, threat, performance, tmr, oyr, conf_per, div]],columns=list(fields))\n",
        "  df_temp.to_csv(Analysis_Sheet, mode='a', index=False, header=False)\n",
        "  #df_temp = pd.DataFrame([[driver.current_url]],columns=list(fields))\n",
        "  #df_temp.to_csv(Links, mode='a', index=False, header=False)\n",
        "  # t+=0.003\n",
        "print(links)\n"
      ],
      "execution_count": null,
      "outputs": [
        {
          "output_type": "stream",
          "text": [
            "/usr/local/lib/python3.7/dist-packages/ipykernel_launcher.py:2: DeprecationWarning: use options instead of chrome_options\n",
            "  \n"
          ],
          "name": "stderr"
        },
        {
          "output_type": "stream",
          "text": [
            "[]\n"
          ],
          "name": "stdout"
        }
      ]
    },
    {
      "cell_type": "code",
      "metadata": {
        "id": "jgwdLrwK5mBF"
      },
      "source": [
        "print(links)\n",
        "//*[@id=\"insight_class\"]"
      ],
      "execution_count": null,
      "outputs": []
    },
    {
      "cell_type": "code",
      "metadata": {
        "id": "4Id95LQN0x8c"
      },
      "source": [
        "#Aryansh\n",
        "\n",
        "driver.set_window_size(1200, 900)\n",
        "Analysis_Sheet = \"/content/drive/MyDrive/Analysis_Sheet.csv\"\n",
        "fields = ['Name', 'URL', 'Price', 'Range', 'ttmpe', 'Sector pe', 'Vol', 'Pitrioski', 'Strength', 'Weak','Opp', 'Threat', 'Performance', '3 Month Return', '1 Year Return', 'Confidence Percentage', 'Dividend']\n",
        "df = pd.read_csv(\"/content/drive/MyDrive/Links.csv\")\n",
        "# for i in range(0,5000):\n",
        "#   l = str(df.loc[i,'Equity URL'])\n",
        "for l in links:\n",
        "  driver.get(l)\n",
        "  time.sleep(2)\n",
        "  name = driver.find_element_by_xpath(\"//*[@id='stockName']/h1\").text\n",
        "  price = driver.find_element_by_xpath(\"//*[@id='nsecp']\").get_attribute('rel')\n",
        "  wh52 = driver.find_element_by_xpath(\"//*[@id='sp_yearlylow']\").text\n",
        "  wl52 = driver.find_element_by_xpath(\"//*[@id='sp_yearlyhigh']\").text\n",
        "  rng = wl52 + \"-\" + wh52\n",
        "  ttmpe = driver.find_element_by_xpath(\"//*[@id='stk_overview']/div[1]/div/div[3]/table/tbody/tr[3]/td[2]\").text\n",
        "  secpe = driver.find_element_by_xpath(\"//*[@id='stk_overview']/div[1]/div/div[3]/table/tbody/tr[4]/td[2]\").text\n",
        "  vol = driver.find_element_by_xpath(\"//*[@id='stk_overview']/div[1]/div/div[1]/table/tbody/tr[5]/td[2]\").text\n",
        "  strength = driver.find_element_by_xpath(\"//*[@id='swot_ls']/a/strong\").text\n",
        "  weak = driver.find_element_by_xpath(\"//*[@id='swot_lw']/a/strong\").text\n",
        "  opp = driver.find_element_by_xpath(\"//*[@id='swot_lo']/a/strong\").text\n",
        "  threat = driver.find_element_by_xpath(\"//*[@id='swot_lt']/a/strong\").text\n",
        "  ps = driver.find_element_by_xpath(\"//*[@id='mc_insight']/div[3]/div[2]/div[1]/div[2]\").text\n",
        "  performance = driver.find_element_by_xpath(\"//*[@id='mc_insight']/div[3]/div[1]/ul/li[4]\").text\n",
        "  tmr = driver.find_element_by_xpath(\"//*[@id='price_volume']/div[2]/div[1]/table/tbody/tr[3]/td[3]\").text\n",
        "  oyr = driver.find_element_by_xpath(\"//*[@id='price_volume']/div[2]/div[1]/table/tbody/tr[5]/td[2]\").text\n",
        "  conf_per = driver.find_element_by_xpath(\"//*[@id='pcforum']/div/div/div[1]/div[2]/div[1]\").text\n",
        "  div = driver.find_element_by_xpath(\"//*[@id='stk_overview']/div/div/div[4]/table/tbody/tr[2]/td[2]\").text\n",
        "  print(name, l, price, range, ttmpe, secpe, vol, ps, strength, weak, opp, threat, performance, tmr, oyr, conf_per, div )\n",
        "  df_temp = pd.DataFrame([[name, l, price, rng, ttmpe, secpe, vol, ps, strength, weak, opp, threat, performance, tmr, oyr, conf_per, div]],columns=list(fields))\n",
        "  #df_temp.to_csv(Analysis_Sheet, mode='a', index=False, header=False)\n",
        "\n",
        "\n",
        "\n"
      ],
      "execution_count": null,
      "outputs": []
    }
  ]
}